{
 "metadata": {
  "language_info": {
   "codemirror_mode": {
    "name": "ipython",
    "version": 3
   },
   "file_extension": ".py",
   "mimetype": "text/x-python",
   "name": "python",
   "nbconvert_exporter": "python",
   "pygments_lexer": "ipython3",
   "version": "3.7.4-final"
  },
  "orig_nbformat": 2,
  "kernelspec": {
   "name": "python3",
   "display_name": "Python 3"
  }
 },
 "nbformat": 4,
 "nbformat_minor": 2,
 "cells": [
  {
   "cell_type": "code",
   "execution_count": null,
   "metadata": {},
   "outputs": [],
   "source": [
    "import xlrd\n",
    "import xlwt\n",
    "from xlutils.copy import copy\n",
    "\n",
    "file_path = 'd:\\workspace\\python-office-hallow\\sample.xlsx'"
   ]
  },
  {
   "cell_type": "code",
   "execution_count": null,
   "metadata": {},
   "outputs": [],
   "source": [
    "# 写入风格\n",
    "style = xlwt.XFStyle()\n",
    "font = xlwt.Font() # 创建字体\n",
    "font.name = 'Arial'\n",
    "font.height = 16\n",
    "font.bold = True # 黑体\n",
    "font.underline = True # 下划线\n",
    "font.italic = True # 斜体字\n",
    "font.colour_index = 2 # 颜色为红色\n",
    "style.font = font"
   ]
  },
  {
   "cell_type": "code",
   "execution_count": null,
   "metadata": {},
   "outputs": [],
   "source": [
    "# 直接打开一个新数据表文件\n",
    "new_workbook = xlwt.Workbook(file_path)\n",
    "data_sheet = new_workbook.add_sheet('data')\n",
    "\n",
    "for row in range(10):\n",
    "  for col in range(10):\n",
    "    data_sheet.write(row, col, str(row) + '---' + str(col), style)\n",
    "\n",
    "new_workbook.save(file_path)"
   ]
  },
  {
   "cell_type": "code",
   "execution_count": null,
   "metadata": {},
   "outputs": [],
   "source": [
    "# 打开并读取一个文件\n",
    "tem_excel = xlrd.open_workbook(file_path, formatting_info=True)\n",
    "# 通过索引获取 tem_sheet = tem_excel.sheet_by_index(0)\n",
    "tem_sheet = tem_excel.sheet_by_name('data')\n",
    "# 写入风格\n",
    "\n",
    "for row in range(10):\n",
    "    for col in range(10):\n",
    "        print(tem_sheet.cell_value(row, col))"
   ]
  },
  {
   "cell_type": "code",
   "execution_count": null,
   "metadata": {},
   "outputs": [],
   "source": []
  },
  {
   "cell_type": "code",
   "execution_count": 29,
   "metadata": {},
   "outputs": [],
   "source": [
    "# copy来使用一个读取后的数据表文件\n",
    "target_excel =  copy(tem_excel)\n",
    "target_sheet = target_excel.get_sheet('data')\n",
    "\n",
    "for row in range(10):\n",
    "  for col in range(10):\n",
    "    target_sheet.write(row, col, 0, style)\n",
    "\n",
    "target_excel.save(file_path)"
   ]
  }
 ]
}